{
 "cells": [
  {
   "attachments": {},
   "cell_type": "markdown",
   "metadata": {},
   "source": [
    "Шовене"
   ]
  },
  {
   "cell_type": "code",
   "execution_count": 1,
   "metadata": {},
   "outputs": [
    {
     "name": "stdout",
     "output_type": "stream",
     "text": [
      "Iteration: 1\n",
      "Anomaly found: 29.87\n",
      "Anomaly found: 25.71\n",
      "Iteration: 2\n",
      "Anomaly found: 20.46\n",
      "Iteration: 3\n",
      "Anomaly found: 0.84\n",
      "Anomaly found: 0.81\n",
      "Iteration: 4\n",
      "Anomaly found: 3.97\n",
      "Anomaly found: 4.46\n",
      "Iteration: 5\n",
      "Anomaly found: 10.38\n",
      "Iteration: 6\n",
      "Anomaly found: 7.74\n",
      "Anomaly found: 9.26\n",
      "Iteration: 7\n",
      "Result: [8.02, 8.16, 8.64, 8.78]\n"
     ]
    }
   ],
   "source": [
    "import math\n",
    "import statistics as st\n",
    "\n",
    "p_list = [8.02, 8.16, 3.97, 8.64, 0.84, 4.46, 0.81, 7.74, 8.78, 9.26, 20.46, 29.87, 10.38, 25.71]\n",
    "# p_list = [15, 16000, 20000, 22000, 24000, 15000, 18000]\n",
    "\n",
    "iteration_counter = 0\n",
    "\n",
    "while True and len(p_list) > 1:\n",
    "    iteration_counter += 1\n",
    "    stop_iter = True\n",
    "    p_mean = st.mean(p_list)\n",
    "    p_stdev = st.stdev(p_list)\n",
    "    print(\"Iteration:\", iteration_counter)\n",
    "    for p in list(p_list):\n",
    "        if p_stdev > 0 and math.erfc(math.fabs(p - p_mean) / p_stdev) < 1 / (2 * len(p_list)):\n",
    "            print(\"Anomaly found:\", p)\n",
    "            p_list.remove(p)\n",
    "            stop_iter = False\n",
    "    if stop_iter:\n",
    "        break\n",
    "\n",
    "print(\"Result:\", p_list)"
   ]
  },
  {
   "cell_type": "code",
   "execution_count": 4,
   "metadata": {},
   "outputs": [
    {
     "name": "stdout",
     "output_type": "stream",
     "text": [
      "p = 8.02 8.16 3.97 8.64 0.84 4.46 0.81 7.74 8.78 9.26 20.46 29.87 10.38 25.71\n",
      "p_i   n  p_mean    std       erfc      r_value   Chauvenet\n",
      "29.87 14 10.507143  8.767465  0.001788  0.035714 True\n",
      "\n",
      "p = 8.02 8.16 3.97 8.64 0.84 4.46 0.81 7.74 8.78 9.26 20.46 29.87 10.38 25.71\n",
      "p_i   n  p_mean    std       erfc      r_value   Chauvenet\n",
      " 0.81 14 10.507143  8.767465  0.117777  0.035714 False\n",
      "\n",
      "p = 8.02 8.16 3.97 8.64 0.84 4.46 0.81 7.74 8.78 9.26 20.46 10.38\n",
      "p_i   n  p_mean    std       erfc      r_value   Chauvenet\n",
      "20.46 12  7.626667  5.167001  0.000444  0.041667 True\n",
      "\n",
      "p = 8.02 8.16 3.97 8.64 0.84 4.46 0.81 7.74 8.78 9.26 20.46 10.38\n",
      "p_i   n  p_mean    std       erfc      r_value   Chauvenet\n",
      " 0.81 12  7.626667  5.167001  0.062079  0.041667 False\n",
      "\n",
      "p = 8.02 8.16 3.97 8.64 0.84 4.46 0.81 7.74 8.78 9.26 10.38\n",
      "p_i   n  p_mean    std       erfc      r_value   Chauvenet\n",
      "10.38 11  6.460000  3.376540  0.100624  0.045455 False\n",
      "\n",
      "p = 8.02 8.16 3.97 8.64 0.84 4.46 0.81 7.74 8.78 9.26 10.38\n",
      "p_i   n  p_mean    std       erfc      r_value   Chauvenet\n",
      " 0.81 11  6.460000  3.376540  0.017961  0.045455 True\n",
      "\n"
     ]
    }
   ],
   "source": [
    "# Скрипт тестирует критерий Шовене для наибольшего и наименьшего значения строки значений р.\n",
    "\n",
    "# Python 3\n",
    "\n",
    "# Среднее, стандартное отклонение со смещением и дополненная функция ошибок из пакета scipy\n",
    "\n",
    "from scipy.stats import tmean, tstd \n",
    "from scipy.special import erfc \n",
    "\n",
    "# каждая строка набор значений р\n",
    "p_set = ((8.02, 8.16, 3.97, 8.64, 0.84, 4.46, 0.81, 7.74, 8.78, 9.26, 20.46, 29.87, 10.38, 25.71),\n",
    "         (8.02, 8.16, 3.97, 8.64, 0.84, 4.46, 0.81, 7.74, 8.78, 9.26, 20.46, 10.38),\n",
    "         (8.02, 8.16, 3.97, 8.64, 0.84, 4.46, 0.81, 7.74, 8.78, 9.26, 10.38))\n",
    "\n",
    "for p in p_set:\n",
    "    n = len(p)\n",
    "    m = tmean(p)\n",
    "    std = tstd(p)\n",
    "    rv = 1 / (2 * n) # правая часть неравенства\n",
    "    for p_i in (max(p), min(p)):\n",
    "        erfc_x = erfc(abs(p_i - m) / std)\n",
    "        print(\"p =\", *p)\n",
    "        print(\"{:5} {:2} {:9} {:9} {:9} {:9} {}\".format(\"p_i\", \"n\", \"p_mean\", \"std\", \"erfc\", \"r_value\", \"Chauvenet\"))\n",
    "\n",
    "        print(\"{:>5.2f} {} {:9.6f} {:9.6f} {:9.6f} {:9.6f} {}\".format(p_i, n, m, std, erfc_x, rv, erfc_x < rv))\n",
    "        print()"
   ]
  },
  {
   "cell_type": "code",
   "execution_count": 3,
   "metadata": {},
   "outputs": [
    {
     "name": "stdout",
     "output_type": "stream",
     "text": [
      "Iter:1, Delited values: [25.71, 29.87]\n",
      "Iter:2, Delited values: [20.46]\n",
      "----------------------------------------\n",
      "Clean data: [0.81, 0.84, 3.97, 4.46, 7.74, 8.02, 8.16, 8.64, 8.78, 9.26, 10.38]\n"
     ]
    }
   ],
   "source": [
    "import pandas as pd\n",
    "import numpy as np\n",
    "from scipy.special import erfc\n",
    "\n",
    "my_set = [8.02, 8.16, 3.97, 8.64, 0.84, 4.46, 0.81, 7.74, 8.78, 9.26, 20.46, 29.87, 10.38, 25.71]\n",
    "\n",
    "df_my_set = pd.DataFrame(data=my_set).sort_values(0).rename(columns={0:'df_values'}).reset_index().loc[:,['df_values']]\n",
    "\n",
    "delited_values = []\n",
    "current_df = df_my_set # делаем копию датасета\n",
    "iter = 1\n",
    "while len(current_df)>2:\n",
    "  current_df['standarted_values'] = erfc((current_df.df_values - current_df.df_values.mean())/current_df.df_values.std()) # добавляем колоку со значениями erfc\n",
    "  criterion = 1/(2*current_df.df_values.count()) # считаем критерий\n",
    "  detected_values = current_df.query('standarted_values < @criterion').reset_index().loc[:, 'df_values'].to_list() # отбираем выбросы\n",
    "  current_df = current_df.query('standarted_values >= @criterion').reset_index().loc[:, ['df_values']] # переопределяем датасет, оставив только не выбросы\n",
    "  if len(detected_values) == 0: # если выбросов больше нет - выходим из цикла\n",
    "    break\n",
    "  else:\n",
    "    print(f'Iter:{iter}, Delited values: {detected_values}')\n",
    "    delited_values.extend(detected_values)\n",
    "    iter += 1\n",
    "print('-'*40)\n",
    "print(f'Clean data: {current_df.df_values.to_list()}')"
   ]
  },
  {
   "cell_type": "code",
   "execution_count": 7,
   "metadata": {},
   "outputs": [
    {
     "name": "stdout",
     "output_type": "stream",
     "text": [
      "[5 6 8 4 2 9 3]\n"
     ]
    }
   ],
   "source": [
    "import scipy.special as ss\n",
    "A = np.array([5, 6, 8, 4, 2, 9, 3, 24])\n",
    "print(A[ss.erfc(abs(A - np.average(A)) / np.std(A)) > 1 / (len(A) * 2)])"
   ]
  },
  {
   "cell_type": "code",
   "execution_count": 4,
   "metadata": {},
   "outputs": [
    {
     "data": {
      "text/plain": [
       "array([ 8.02,  8.16,  3.97,  8.64,  0.84,  4.46,  0.81,  7.74,  8.78,\n",
       "        9.26, 20.46, 10.38])"
      ]
     },
     "execution_count": 4,
     "metadata": {},
     "output_type": "execute_result"
    }
   ],
   "source": [
    "mass = np.array([8.02, 8.16, 3.97, 8.64, 0.84, 4.46, 0.81, 7.74, 8.78, 9.26, 20.46, 29.87, 10.38, 25.71])\n",
    "\n",
    "from scipy.special import erfc\n",
    "\n",
    "func = lambda x: erfc(abs(x - x.mean()) / x.std(ddof=1)) < (x.size ** -1 / 2)\n",
    "\n",
    "mass = mass[~func(mass)]\n",
    "\n",
    "mass"
   ]
  },
  {
   "cell_type": "code",
   "execution_count": null,
   "metadata": {},
   "outputs": [],
   "source": []
  }
 ],
 "metadata": {
  "kernelspec": {
   "display_name": "Python 3.9.13 ('base')",
   "language": "python",
   "name": "python3"
  },
  "language_info": {
   "codemirror_mode": {
    "name": "ipython",
    "version": 3
   },
   "file_extension": ".py",
   "mimetype": "text/x-python",
   "name": "python",
   "nbconvert_exporter": "python",
   "pygments_lexer": "ipython3",
   "version": "3.9.13"
  },
  "orig_nbformat": 4,
  "vscode": {
   "interpreter": {
    "hash": "d9acfe8064b338b087cf5b985d533c132426f668fd9f5be560d7a729870e8555"
   }
  }
 },
 "nbformat": 4,
 "nbformat_minor": 2
}
