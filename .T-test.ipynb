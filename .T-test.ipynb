{
  "nbformat": 4,
  "nbformat_minor": 0,
  "metadata": {
    "colab": {
      "provenance": [],
      "authorship_tag": "ABX9TyMoPsCrKmbbYxKTODskqONQ",
      "include_colab_link": true
    },
    "kernelspec": {
      "name": "python3",
      "display_name": "Python 3"
    },
    "language_info": {
      "name": "python"
    }
  },
  "cells": [
    {
      "cell_type": "markdown",
      "metadata": {
        "id": "view-in-github",
        "colab_type": "text"
      },
      "source": [
        "<a href=\"https://colab.research.google.com/github/Vitalyastiy/statistics/blob/main/t-test.ipynb\" target=\"_parent\"><img src=\"https://colab.research.google.com/assets/colab-badge.svg\" alt=\"Open In Colab\"/></a>"
      ]
    },
    {
      "cell_type": "markdown",
      "source": [
        "**T-тест с двумя выборками в Python**"
      ],
      "metadata": {
        "id": "1Uhi9l5dlqZm"
      }
    },
    {
      "cell_type": "code",
      "execution_count": null,
      "metadata": {
        "id": "kQkvZL9GcXCX"
      },
      "outputs": [],
      "source": [
        "import numpy as np\n",
        "group1 = np.array([14, 15, 15, 16, 13, 8, 14, 17, 16, 14, 19, 20, 21, 15, 15, 16, 16, 13, 14, 12])\n",
        "group2 = np.array([15, 17, 14, 17, 14, 8, 12, 19, 19, 14, 17, 22, 24, 16, 13, 16, 13, 18, 15, 13])\n",
        "\n",
        "print(np.var(group1), np.var(group2))"
      ]
    },
    {
      "cell_type": "markdown",
      "source": [
        "Далее мы воспользуемся функцией ttest_ind() из библиотеки scipy.stats для проведения двухвыборочного t-теста, в котором используется следующий синтаксис:\n",
        "\n",
        "ttest_ind(a, b, equal_var=Истина\n",
        "a: массив выборочных наблюдений для группы 1\n",
        "b: массив выборочных наблюдений для группы 2\n",
        "\n",
        "equal_var: если True, выполните стандартный независимый t-критерий с двумя выборками, который предполагает равные дисперсии генеральной совокупности. Если False, выполните t-критерий Уэлча , который не предполагает равных дисперсий генеральной совокупности. Это Истина по умолчанию.\n",
        "Прежде чем мы проведем тест, нам нужно решить, будем ли мы предполагать, что две совокупности имеют одинаковую дисперсию или нет. Как правило, мы можем предположить, что совокупности имеют равные дисперсии, если отношение большей выборочной дисперсии к меньшей выборочной дисперсии составляет менее 4:1.\n",
        "\n",
        "7.73 12.26\n",
        "Отношение большей дисперсии выборки к меньшей дисперсии выборки составляет 12,26 / 7,73 = 1,586 , что меньше 4. Это означает, что мы можем предположить, что дисперсии генеральной совокупности равны."
      ],
      "metadata": {
        "id": "epsdub3Ml8pG"
      }
    },
    {
      "cell_type": "code",
      "source": [
        "import scipy.stats as stats\n",
        "#perform two sample t-test with equal variances\n",
        "stats.ttest_ind(a=group1, b=group2, equal_var=True)"
      ],
      "metadata": {
        "colab": {
          "base_uri": "https://localhost:8080/"
        },
        "id": "GIyl8uH4lihA",
        "outputId": "df697782-00ee-463e-c332-43bd4f94a518"
      },
      "execution_count": 5,
      "outputs": [
        {
          "output_type": "execute_result",
          "data": {
            "text/plain": [
              "Ttest_indResult(statistic=-0.6337397070250238, pvalue=0.5300471010405257)"
            ]
          },
          "metadata": {},
          "execution_count": 5
        }
      ]
    },
    {
      "cell_type": "markdown",
      "source": [
        "Статистика t-теста равна -0,6337\n",
        "Поскольку p-значение нашего теста (0,53005) больше, чем альфа = 0,05, мы не можем отвергнуть нулевую гипотезу теста. У нас нет достаточных данных, чтобы сказать, что средняя высота растений между двумя популяциями различна."
      ],
      "metadata": {
        "id": "G8nWnjSsmeIk"
      }
    },
    {
      "cell_type": "markdown",
      "source": [
        "**T-тест для парных выборок**"
      ],
      "metadata": {
        "id": "p_e20t64ujzx"
      }
    },
    {
      "cell_type": "markdown",
      "source": [
        "сравнения средних значений двух выборок, когда каждое наблюдение в одной выборке может быть сопоставлено с наблюдением в другой выборке"
      ],
      "metadata": {
        "id": "ZnLSwSZIu3VY"
      }
    },
    {
      "cell_type": "code",
      "source": [
        "pre = [88, 82, 84, 93, 75, 78, 84, 87, 95, 91, 83, 89, 77, 68, 91]\n",
        "post = [91, 84, 88, 90, 79, 80, 88, 90, 90, 96, 88, 89, 81, 74, 92]"
      ],
      "metadata": {
        "id": "1bHDgCm0uuPA"
      },
      "execution_count": 7,
      "outputs": []
    },
    {
      "cell_type": "markdown",
      "source": [
        "Далее мы будем использовать функцию ttest_rel() из библиотеки scipy.stats для проведения t-теста парных выборок, который использует следующий синтаксис:\n",
        "ttest_rel(a, b)\n",
        "куда:\n",
        "a: массив выборочных наблюдений из группы 1\n",
        "b: массив выборочных наблюдений из группы 2\n",
        "Вот как использовать эту функцию в нашем конкретном примере:"
      ],
      "metadata": {
        "id": "2aEbo_ADvHeO"
      }
    },
    {
      "cell_type": "code",
      "source": [
        "import scipy.stats as stats\n",
        "#perform the paired samples t-test\n",
        "stats.ttest_rel(pre, post)"
      ],
      "metadata": {
        "colab": {
          "base_uri": "https://localhost:8080/"
        },
        "id": "9_qNgDkXvJPe",
        "outputId": "05895f69-5edc-45a2-b1f5-0e900a433b7e"
      },
      "execution_count": 8,
      "outputs": [
        {
          "output_type": "execute_result",
          "data": {
            "text/plain": [
              "Ttest_relResult(statistic=-2.9732484231168796, pvalue=0.01007144862643272)"
            ]
          },
          "metadata": {},
          "execution_count": 8
        }
      ]
    },
    {
      "cell_type": "markdown",
      "source": [
        "Статистика теста равна -2,9732 , а соответствующее двустороннее значение p равно 0,0101 .\n",
        "Поскольку p-значение ( 0,0101 ) меньше 0,05, мы отвергаем нулевую гипотезу. У нас есть достаточно доказательств, чтобы сказать, что истинный средний балл теста отличается для студентов до и после участия в учебной программе."
      ],
      "metadata": {
        "id": "86AVw_47vQb-"
      }
    },
    {
      "cell_type": "markdown",
      "source": [
        "**Т-тест с одним образцом**"
      ],
      "metadata": {
        "id": "BJvh8LABvfC_"
      }
    },
    {
      "cell_type": "markdown",
      "source": [
        "используется, чтобы определить, равно ли среднее значение генеральной совокупности некоторому значению."
      ],
      "metadata": {
        "id": "PA7N0bhIvlTt"
      }
    },
    {
      "cell_type": "code",
      "source": [
        "data = [14, 14, 16, 13, 12, 17, 15, 14, 15, 13, 15, 14]"
      ],
      "metadata": {
        "id": "vPkNBjjxvjAm"
      },
      "execution_count": 9,
      "outputs": []
    },
    {
      "cell_type": "markdown",
      "source": [
        "Далее мы воспользуемся функцией ttest_1samp() из библиотеки scipy.stats для проведения одновыборочного t-теста, в котором используется следующий синтаксис:\n",
        "ttest_1samp(a, среднее значение)\n",
        "куда:\n",
        "a: массив выборочных наблюдений\n",
        "popmean: ожидаемое среднее значение населения\n",
        "Вот как использовать эту функцию в нашем конкретном примере:"
      ],
      "metadata": {
        "id": "2Nd44zv9vr2F"
      }
    },
    {
      "cell_type": "code",
      "source": [
        "import scipy.stats as stats\n",
        "#perform one sample t-test\n",
        "stats.ttest_1samp(a=data, popmean=15)"
      ],
      "metadata": {
        "colab": {
          "base_uri": "https://localhost:8080/"
        },
        "id": "2HZi4HPOvuoN",
        "outputId": "a0ac41f8-9f72-421f-d551-bf1c9be1153d"
      },
      "execution_count": 10,
      "outputs": [
        {
          "output_type": "execute_result",
          "data": {
            "text/plain": [
              "Ttest_1sampResult(statistic=-1.6848470783484626, pvalue=0.12014460742498101)"
            ]
          },
          "metadata": {},
          "execution_count": 10
        }
      ]
    },
    {
      "cell_type": "markdown",
      "source": [
        "Статистика t-теста равна -1,6848 , а соответствующее двустороннее значение p равно 0,1201 .\n",
        "Поскольку p-значение нашего теста (0,1201) больше, чем альфа = 0,05, мы не можем отвергнуть нулевую гипотезу теста. У нас нет достаточных доказательств, чтобы сказать, что средняя высота этого конкретного вида растений отличается от 15 дюймов."
      ],
      "metadata": {
        "id": "RbSfzmBOv3D1"
      }
    },
    {
      "cell_type": "markdown",
      "source": [
        "\n",
        "**t-тест Уэлча в Python**"
      ],
      "metadata": {
        "id": "ZRhwadINwUp0"
      }
    },
    {
      "cell_type": "markdown",
      "source": [
        "https://www.codecamp.ru/blog/welchs-t-test/\n",
        "Cамый распространенный способ сравнить средние между двумя независимыми группами — использовать t-критерий с двумя выборками.Однако этот тест предполагает, что дисперсии между двумя группами равны.\n",
        "\n",
        "Если вы подозреваете, что дисперсия между двумя группами неодинакова , вы можете вместо этого использовать t-критерий Уэлча , который является непараметрическим эквивалентом t-теста для двух выборок."
      ],
      "metadata": {
        "id": "xIT25mL6wq-T"
      }
    },
    {
      "cell_type": "code",
      "source": [
        "#import ttest_ind() function\n",
        "from scipy import stats\n",
        "\n",
        "#define two arrays of data\n",
        "booklet = [90, 85, 88, 89, 94, 91, 79, 83, 87, 88, 91, 90]\n",
        "no_booklet = [67, 90, 71, 95, 88, 83, 72, 66, 75, 86, 93, 84]\n",
        "\n",
        "#perform Welch's t-test \n",
        "stats. ttest_ind (booklet, no_booklet, equal_var = False )\n"
      ],
      "metadata": {
        "id": "JK7-A_d9wyEU"
      },
      "execution_count": null,
      "outputs": []
    },
    {
      "cell_type": "markdown",
      "source": [
        "Тестовая статистика оказывается равной 2,2361 , а соответствующее значение p равно 0,0417 .\n",
        "\n",
        "Поскольку это p-значение меньше 0,05, мы можем отклонить нулевую гипотезу теста и сделать вывод, что существует статистически значимая разница в средних баллах по экзаменам между двумя группами.\n",
        "\n",
        "Обратите внимание, что два размера выборки в этом примере были одинаковыми, но t-критерий Уэлча все еще работает, даже если два размера выборки не равны."
      ],
      "metadata": {
        "id": "d6fYXt_Aw8e7"
      }
    }
  ]
}
