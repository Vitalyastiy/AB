{
 "cells": [
  {
   "attachments": {},
   "cell_type": "markdown",
   "metadata": {},
   "source": [
    "Тест Левена используется для определения того, имеют ли две или более группы одинаковые отклонения. Он широко используется, потому что многие статистические тесты предполагают, что группы имеют одинаковую дисперсию, а тест Левена позволяет определить, выполняется ли это предположение."
   ]
  },
  {
   "cell_type": "code",
   "execution_count": 3,
   "metadata": {},
   "outputs": [
    {
     "name": "stdout",
     "output_type": "stream",
     "text": [
      "We do not reject the null hypothesis\n"
     ]
    }
   ],
   "source": [
    "from scipy.stats import levene\n",
    "# define groups\n",
    "group_1 = [ 14 , 34 , 16 , 43 , 45 , 36 , 42 , 43 , 16 , 27 ]\n",
    "group_2 = [ 34 , 36 , 44 , 18 , 42 , 39 , 16 , 35 , 15 , 33 ]\n",
    "# define alpha\n",
    "alpha = 0.05\n",
    "# now we pass the groups and center value from the following\n",
    "# ('trimmed mean', 'mean', 'median')\n",
    "w_stats, p_value = levene(group_1,group_2, center = 'mean' )\n",
    "if p_value > alpha :\n",
    "    print ( \"We do not reject the null hypothesis\" )\n",
    "else:\n",
    "    print( \"Reject the Null Hypothesis\" )"
   ]
  },
  {
   "attachments": {},
   "cell_type": "markdown",
   "metadata": {},
   "source": [
    "https://www.codecamp.ru/blog/levenes-test-python/"
   ]
  },
  {
   "cell_type": "code",
   "execution_count": 8,
   "metadata": {},
   "outputs": [
    {
     "name": "stdout",
     "output_type": "stream",
     "text": [
      "LeveneResult(statistic=0.17981072555205047, pvalue=0.8364205218185946)\n"
     ]
    },
    {
     "data": {
      "text/plain": [
       "LeveneResult(statistic=0.5357011635027553, pvalue=0.5913510184735677)"
      ]
     },
     "execution_count": 8,
     "metadata": {},
     "output_type": "execute_result"
    }
   ],
   "source": [
    "import scipy.stats as stats\n",
    "\n",
    "group1 = [7, 14, 14, 13, 12, 9, 6, 14, 12, 8]\n",
    "group2 = [15, 17, 13, 15, 15, 13, 9, 12, 10, 8]\n",
    "group3 = [6, 8, 8, 9, 5, 14, 13, 8, 10, 9]\n",
    "#Levene's test centered at the median\n",
    "print(stats.levene(group1, group2, group3, center='median'))\n",
    "\n",
    "#Levene's test centered at the mean\n",
    "stats.levene(group1, group2, group3, center='mean')\n"
   ]
  },
  {
   "cell_type": "code",
   "execution_count": null,
   "metadata": {},
   "outputs": [],
   "source": []
  }
 ],
 "metadata": {
  "kernelspec": {
   "display_name": "base",
   "language": "python",
   "name": "python3"
  },
  "language_info": {
   "codemirror_mode": {
    "name": "ipython",
    "version": 3
   },
   "file_extension": ".py",
   "mimetype": "text/x-python",
   "name": "python",
   "nbconvert_exporter": "python",
   "pygments_lexer": "ipython3",
   "version": "3.9.13"
  },
  "orig_nbformat": 4
 },
 "nbformat": 4,
 "nbformat_minor": 2
}
