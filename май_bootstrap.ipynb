{
 "cells": [
  {
   "cell_type": "markdown",
   "metadata": {},
   "source": [
    "## Бутстрап\n",
    "Бутстрап позволяет многократно извлекать подвыборки из выборки, полученной в рамках экспериментва\n",
    "\n",
    "В полученных подвыборках считаются статистики (среднее, медиана и т.п.)\n",
    "\n",
    "Из статистик можно получить ее распределение и взять доверительный интервал\n",
    "\n",
    "ЦПТ, например, не позволяет строить доверительные интервал для медианы, а бутстрэп это может сделать"
   ]
  },
  {
   "cell_type": "code",
   "execution_count": 1,
   "metadata": {},
   "outputs": [
    {
     "name": "stderr",
     "output_type": "stream",
     "text": [
      "C:\\Users\\vitaly.flerin\\Miniconda3\\lib\\site-packages\\tqdm\\auto.py:22: TqdmWarning: IProgress not found. Please update jupyter and ipywidgets. See https://ipywidgets.readthedocs.io/en/stable/user_install.html\n",
      "  from .autonotebook import tqdm as notebook_tqdm\n"
     ]
    }
   ],
   "source": [
    "\n",
    "import numpy as np\n",
    "import pandas as pd\n",
    "from scipy.stats import mannwhitneyu\n",
    "from scipy.stats import ttest_ind\n",
    "from scipy.stats import norm\n",
    "import matplotlib.pyplot as plt\n",
    "import seaborn as sns\n",
    "\n",
    "from tqdm.auto import tqdm\n",
    "import seaborn as sns\n",
    "\n",
    "plt.style.use('ggplot')"
   ]
  },
  {
   "cell_type": "code",
   "execution_count": null,
   "metadata": {},
   "outputs": [],
   "source": [
    "# Объявим функцию, которая позволит проверять гипотезы с помощью бутстрапа\n",
    "\n",
    "# На нашем курсе по аналитике https://karpov.courses/ секцию про bootstrap читают ребята из https://www.experiment-fest.ru/\n",
    "# Функция get_bootstrap взята из их занятия по АБ тестам"
   ]
  },
  {
   "cell_type": "code",
   "execution_count": 6,
   "metadata": {},
   "outputs": [],
   "source": [
    "def get_bootstrap(\n",
    "    data_column_1, # числовые значения первой выборки\n",
    "    data_column_2, # числовые значения второй выборки\n",
    "    boot_it = 1000, # количество бутстрэп-подвыборок\n",
    "    statistic = np.mean, # интересующая нас статистика\n",
    "    bootstrap_conf_level = 0.95 # уровень значимости\n",
    "):\n",
    "    boot_len = max([len(data_column_1), len(data_column_2)])\n",
    "    boot_data = []\n",
    "    for i in tqdm(range(boot_it)): # извлекаем подвыборки\n",
    "        samples_1 = data_column_1.sample(\n",
    "            boot_len, \n",
    "            replace = True # параметр возвращения\n",
    "        ).values\n",
    "        \n",
    "        samples_2 = data_column_2.sample(\n",
    "            boot_len, # чтобы сохранить дисперсию, берем такой же размер выборки\n",
    "            replace = True\n",
    "        ).values\n",
    "        \n",
    "        boot_data.append(statistic(samples_1-samples_2)) \n",
    "    pd_boot_data = pd.DataFrame(boot_data)\n",
    "        \n",
    "    left_quant = (1 - bootstrap_conf_level)/2\n",
    "    right_quant = 1 - (1 - bootstrap_conf_level) / 2\n",
    "    quants = pd_boot_data.quantile([left_quant, right_quant])\n",
    "        \n",
    "    p_1 = norm.cdf(\n",
    "        x = 0, \n",
    "        loc = np.mean(boot_data), \n",
    "        scale = np.std(boot_data)\n",
    "    )\n",
    "    p_2 = norm.cdf(\n",
    "        x = 0, \n",
    "        loc = -np.mean(boot_data), \n",
    "        scale = np.std(boot_data)\n",
    "    )\n",
    "    p_value = min(p_1, p_2) * 2\n",
    "        \n",
    "    # Визуализация\n",
    "    _, _, bars = plt.hist(pd_boot_data[0], bins = 50)\n",
    "    for bar in bars:\n",
    "        if abs(bar.get_x()) <= quants.iloc[0][0] or abs(bar.get_x()) >= quants.iloc[1][0]:\n",
    "            bar.set_facecolor('red')\n",
    "        else: \n",
    "            bar.set_facecolor('grey')\n",
    "            bar.set_edgecolor('black')\n",
    "    \n",
    "    plt.style.use('ggplot')\n",
    "    plt.vlines(quants,ymin=0,ymax=50,linestyle='--')\n",
    "    plt.xlabel('boot_data')\n",
    "    plt.ylabel('frequency')\n",
    "    plt.title(\"Histogram of boot_data\")\n",
    "    plt.show()\n",
    "       \n",
    "    return {\"boot_data\": boot_data, \n",
    "            \"quants\": quants, \n",
    "            \"p_value\": p_value}"
   ]
  },
  {
   "cell_type": "code",
   "execution_count": null,
   "metadata": {},
   "outputs": [],
   "source": [
    "# будем пробовать бутстрап на эксп. распределении\n",
    "np.random.seed(5)"
   ]
  },
  {
   "cell_type": "code",
   "execution_count": 7,
   "metadata": {},
   "outputs": [],
   "source": [
    "n = 1000\n",
    "\n",
    "sample_1 = np.random.exponential(scale=1/0.001, size=n)\n",
    "sample_2 = np.random.exponential(scale=1/0.00101, size=n)\n",
    "\n",
    "df = pd.DataFrame({\n",
    "    \"sample_1\": sample_1,\n",
    "    \"sample_2\": sample_2\n",
    "})"
   ]
  },
  {
   "cell_type": "code",
   "execution_count": null,
   "metadata": {},
   "outputs": [],
   "source": []
  },
  {
   "cell_type": "code",
   "execution_count": 9,
   "metadata": {},
   "outputs": [
    {
     "ename": "NameError",
     "evalue": "name 'tqdm' is not defined",
     "output_type": "error",
     "traceback": [
      "\u001b[1;31m---------------------------------------------------------------------------\u001b[0m",
      "\u001b[1;31mNameError\u001b[0m                                 Traceback (most recent call last)",
      "\u001b[1;32mc:\\Users\\vitaly.flerin\\AppData\\Local\\Microsoft\\Windows\\INetCache\\Content.Outlook\\2CE8TL5A\\май_bootstrap.ipynb Ячейка 8\u001b[0m in \u001b[0;36m<cell line: 1>\u001b[1;34m()\u001b[0m\n\u001b[1;32m----> <a href='vscode-notebook-cell:/c%3A/Users/vitaly.flerin/AppData/Local/Microsoft/Windows/INetCache/Content.Outlook/2CE8TL5A/%D0%BC%D0%B0%D0%B9_bootstrap.ipynb#X10sZmlsZQ%3D%3D?line=0'>1</a>\u001b[0m booted_data \u001b[39m=\u001b[39m get_bootstrap(df\u001b[39m.\u001b[39;49msample_1, df\u001b[39m.\u001b[39;49msample_2)\n",
      "\u001b[1;32mc:\\Users\\vitaly.flerin\\AppData\\Local\\Microsoft\\Windows\\INetCache\\Content.Outlook\\2CE8TL5A\\май_bootstrap.ipynb Ячейка 8\u001b[0m in \u001b[0;36mget_bootstrap\u001b[1;34m(data_column_1, data_column_2, boot_it, statistic, bootstrap_conf_level)\u001b[0m\n\u001b[0;32m      <a href='vscode-notebook-cell:/c%3A/Users/vitaly.flerin/AppData/Local/Microsoft/Windows/INetCache/Content.Outlook/2CE8TL5A/%D0%BC%D0%B0%D0%B9_bootstrap.ipynb#X10sZmlsZQ%3D%3D?line=7'>8</a>\u001b[0m boot_len \u001b[39m=\u001b[39m \u001b[39mmax\u001b[39m([\u001b[39mlen\u001b[39m(data_column_1), \u001b[39mlen\u001b[39m(data_column_2)])\n\u001b[0;32m      <a href='vscode-notebook-cell:/c%3A/Users/vitaly.flerin/AppData/Local/Microsoft/Windows/INetCache/Content.Outlook/2CE8TL5A/%D0%BC%D0%B0%D0%B9_bootstrap.ipynb#X10sZmlsZQ%3D%3D?line=8'>9</a>\u001b[0m boot_data \u001b[39m=\u001b[39m []\n\u001b[1;32m---> <a href='vscode-notebook-cell:/c%3A/Users/vitaly.flerin/AppData/Local/Microsoft/Windows/INetCache/Content.Outlook/2CE8TL5A/%D0%BC%D0%B0%D0%B9_bootstrap.ipynb#X10sZmlsZQ%3D%3D?line=9'>10</a>\u001b[0m \u001b[39mfor\u001b[39;00m i \u001b[39min\u001b[39;00m tqdm(\u001b[39mrange\u001b[39m(boot_it)): \u001b[39m# извлекаем подвыборки\u001b[39;00m\n\u001b[0;32m     <a href='vscode-notebook-cell:/c%3A/Users/vitaly.flerin/AppData/Local/Microsoft/Windows/INetCache/Content.Outlook/2CE8TL5A/%D0%BC%D0%B0%D0%B9_bootstrap.ipynb#X10sZmlsZQ%3D%3D?line=10'>11</a>\u001b[0m     samples_1 \u001b[39m=\u001b[39m data_column_1\u001b[39m.\u001b[39msample(\n\u001b[0;32m     <a href='vscode-notebook-cell:/c%3A/Users/vitaly.flerin/AppData/Local/Microsoft/Windows/INetCache/Content.Outlook/2CE8TL5A/%D0%BC%D0%B0%D0%B9_bootstrap.ipynb#X10sZmlsZQ%3D%3D?line=11'>12</a>\u001b[0m         boot_len, \n\u001b[0;32m     <a href='vscode-notebook-cell:/c%3A/Users/vitaly.flerin/AppData/Local/Microsoft/Windows/INetCache/Content.Outlook/2CE8TL5A/%D0%BC%D0%B0%D0%B9_bootstrap.ipynb#X10sZmlsZQ%3D%3D?line=12'>13</a>\u001b[0m         replace \u001b[39m=\u001b[39m \u001b[39mTrue\u001b[39;00m \u001b[39m# параметр возвращения\u001b[39;00m\n\u001b[0;32m     <a href='vscode-notebook-cell:/c%3A/Users/vitaly.flerin/AppData/Local/Microsoft/Windows/INetCache/Content.Outlook/2CE8TL5A/%D0%BC%D0%B0%D0%B9_bootstrap.ipynb#X10sZmlsZQ%3D%3D?line=13'>14</a>\u001b[0m     )\u001b[39m.\u001b[39mvalues\n\u001b[0;32m     <a href='vscode-notebook-cell:/c%3A/Users/vitaly.flerin/AppData/Local/Microsoft/Windows/INetCache/Content.Outlook/2CE8TL5A/%D0%BC%D0%B0%D0%B9_bootstrap.ipynb#X10sZmlsZQ%3D%3D?line=15'>16</a>\u001b[0m     samples_2 \u001b[39m=\u001b[39m data_column_2\u001b[39m.\u001b[39msample(\n\u001b[0;32m     <a href='vscode-notebook-cell:/c%3A/Users/vitaly.flerin/AppData/Local/Microsoft/Windows/INetCache/Content.Outlook/2CE8TL5A/%D0%BC%D0%B0%D0%B9_bootstrap.ipynb#X10sZmlsZQ%3D%3D?line=16'>17</a>\u001b[0m         boot_len, \u001b[39m# чтобы сохранить дисперсию, берем такой же размер выборки\u001b[39;00m\n\u001b[0;32m     <a href='vscode-notebook-cell:/c%3A/Users/vitaly.flerin/AppData/Local/Microsoft/Windows/INetCache/Content.Outlook/2CE8TL5A/%D0%BC%D0%B0%D0%B9_bootstrap.ipynb#X10sZmlsZQ%3D%3D?line=17'>18</a>\u001b[0m         replace \u001b[39m=\u001b[39m \u001b[39mTrue\u001b[39;00m\n\u001b[0;32m     <a href='vscode-notebook-cell:/c%3A/Users/vitaly.flerin/AppData/Local/Microsoft/Windows/INetCache/Content.Outlook/2CE8TL5A/%D0%BC%D0%B0%D0%B9_bootstrap.ipynb#X10sZmlsZQ%3D%3D?line=18'>19</a>\u001b[0m     )\u001b[39m.\u001b[39mvalues\n",
      "\u001b[1;31mNameError\u001b[0m: name 'tqdm' is not defined"
     ]
    }
   ],
   "source": [
    "booted_data = get_bootstrap(df.sample_1, df.sample_2) # в результате хранится разница двух распределений, ДИ и pvalue"
   ]
  },
  {
   "cell_type": "code",
   "execution_count": null,
   "metadata": {},
   "outputs": [
    {
     "data": {
      "text/plain": [
       "0.07704553867678232"
      ]
     },
     "execution_count": 6,
     "metadata": {},
     "output_type": "execute_result"
    }
   ],
   "source": [
    "booted_data[\"p_value\"] # альфа"
   ]
  },
  {
   "cell_type": "code",
   "execution_count": null,
   "metadata": {},
   "outputs": [
    {
     "data": {
      "text/html": [
       "<div>\n",
       "<style scoped>\n",
       "    .dataframe tbody tr th:only-of-type {\n",
       "        vertical-align: middle;\n",
       "    }\n",
       "\n",
       "    .dataframe tbody tr th {\n",
       "        vertical-align: top;\n",
       "    }\n",
       "\n",
       "    .dataframe thead th {\n",
       "        text-align: right;\n",
       "    }\n",
       "</style>\n",
       "<table border=\"1\" class=\"dataframe\">\n",
       "  <thead>\n",
       "    <tr style=\"text-align: right;\">\n",
       "      <th></th>\n",
       "      <th>0</th>\n",
       "    </tr>\n",
       "  </thead>\n",
       "  <tbody>\n",
       "    <tr>\n",
       "      <th>0.025</th>\n",
       "      <td>-161.943418</td>\n",
       "    </tr>\n",
       "    <tr>\n",
       "      <th>0.975</th>\n",
       "      <td>5.328283</td>\n",
       "    </tr>\n",
       "  </tbody>\n",
       "</table>\n",
       "</div>"
      ],
      "text/plain": [
       "                0\n",
       "0.025 -161.943418\n",
       "0.975    5.328283"
      ]
     },
     "execution_count": 7,
     "metadata": {},
     "output_type": "execute_result"
    }
   ],
   "source": [
    "booted_data[\"quants\"] # ДИ"
   ]
  },
  {
   "cell_type": "code",
   "execution_count": 14,
   "metadata": {},
   "outputs": [],
   "source": [
    "data_ab=pd.read_csv(r\"C:\\Users\\vitaly.flerin\\Desktop\\qwe.csv\", sep=';')"
   ]
  },
  {
   "cell_type": "code",
   "execution_count": 12,
   "metadata": {},
   "outputs": [
    {
     "ename": "NameError",
     "evalue": "name 'data_ab' is not defined",
     "output_type": "error",
     "traceback": [
      "\u001b[1;31m---------------------------------------------------------------------------\u001b[0m",
      "\u001b[1;31mNameError\u001b[0m                                 Traceback (most recent call last)",
      "\u001b[1;32mc:\\Users\\vitaly.flerin\\AppData\\Local\\Microsoft\\Windows\\INetCache\\Content.Outlook\\2CE8TL5A\\май_bootstrap.ipynb Ячейка 12\u001b[0m in \u001b[0;36m<cell line: 1>\u001b[1;34m()\u001b[0m\n\u001b[1;32m----> <a href='vscode-notebook-cell:/c%3A/Users/vitaly.flerin/AppData/Local/Microsoft/Windows/INetCache/Content.Outlook/2CE8TL5A/%D0%BC%D0%B0%D0%B9_bootstrap.ipynb#X14sZmlsZQ%3D%3D?line=0'>1</a>\u001b[0m data_ab\u001b[39m.\u001b[39mhead()\n",
      "\u001b[1;31mNameError\u001b[0m: name 'data_ab' is not defined"
     ]
    }
   ],
   "source": [
    "data_ab.head()"
   ]
  },
  {
   "cell_type": "code",
   "execution_count": 15,
   "metadata": {},
   "outputs": [
    {
     "data": {
      "text/plain": [
       "flag    object\n",
       "nps      int64\n",
       "dtype: object"
      ]
     },
     "execution_count": 15,
     "metadata": {},
     "output_type": "execute_result"
    }
   ],
   "source": [
    "data_ab.dtypes"
   ]
  },
  {
   "cell_type": "code",
   "execution_count": 16,
   "metadata": {},
   "outputs": [
    {
     "data": {
      "text/html": [
       "<div>\n",
       "<style scoped>\n",
       "    .dataframe tbody tr th:only-of-type {\n",
       "        vertical-align: middle;\n",
       "    }\n",
       "\n",
       "    .dataframe tbody tr th {\n",
       "        vertical-align: top;\n",
       "    }\n",
       "\n",
       "    .dataframe thead th {\n",
       "        text-align: right;\n",
       "    }\n",
       "</style>\n",
       "<table border=\"1\" class=\"dataframe\">\n",
       "  <thead>\n",
       "    <tr style=\"text-align: right;\">\n",
       "      <th></th>\n",
       "      <th>nps</th>\n",
       "    </tr>\n",
       "    <tr>\n",
       "      <th>flag</th>\n",
       "      <th></th>\n",
       "    </tr>\n",
       "  </thead>\n",
       "  <tbody>\n",
       "    <tr>\n",
       "      <th>lsub</th>\n",
       "      <td>2067</td>\n",
       "    </tr>\n",
       "    <tr>\n",
       "      <th>sub</th>\n",
       "      <td>1629</td>\n",
       "    </tr>\n",
       "  </tbody>\n",
       "</table>\n",
       "</div>"
      ],
      "text/plain": [
       "       nps\n",
       "flag      \n",
       "lsub  2067\n",
       "sub   1629"
      ]
     },
     "execution_count": 16,
     "metadata": {},
     "output_type": "execute_result"
    }
   ],
   "source": [
    "data_ab.groupby('flag').agg({'nps': 'count'})"
   ]
  },
  {
   "cell_type": "code",
   "execution_count": 17,
   "metadata": {},
   "outputs": [
    {
     "data": {
      "text/html": [
       "<div>\n",
       "<style scoped>\n",
       "    .dataframe tbody tr th:only-of-type {\n",
       "        vertical-align: middle;\n",
       "    }\n",
       "\n",
       "    .dataframe tbody tr th {\n",
       "        vertical-align: top;\n",
       "    }\n",
       "\n",
       "    .dataframe thead th {\n",
       "        text-align: right;\n",
       "    }\n",
       "</style>\n",
       "<table border=\"1\" class=\"dataframe\">\n",
       "  <thead>\n",
       "    <tr style=\"text-align: right;\">\n",
       "      <th></th>\n",
       "      <th>nps</th>\n",
       "    </tr>\n",
       "    <tr>\n",
       "      <th>flag</th>\n",
       "      <th></th>\n",
       "    </tr>\n",
       "  </thead>\n",
       "  <tbody>\n",
       "    <tr>\n",
       "      <th>lsub</th>\n",
       "      <td>0.256410</td>\n",
       "    </tr>\n",
       "    <tr>\n",
       "      <th>sub</th>\n",
       "      <td>0.163904</td>\n",
       "    </tr>\n",
       "  </tbody>\n",
       "</table>\n",
       "</div>"
      ],
      "text/plain": [
       "           nps\n",
       "flag          \n",
       "lsub  0.256410\n",
       "sub   0.163904"
      ]
     },
     "execution_count": 17,
     "metadata": {},
     "output_type": "execute_result"
    }
   ],
   "source": [
    "data_ab.groupby('flag').agg({'nps': 'mean'})"
   ]
  },
  {
   "cell_type": "code",
   "execution_count": 18,
   "metadata": {},
   "outputs": [
    {
     "data": {
      "text/html": [
       "<div>\n",
       "<style scoped>\n",
       "    .dataframe tbody tr th:only-of-type {\n",
       "        vertical-align: middle;\n",
       "    }\n",
       "\n",
       "    .dataframe tbody tr th {\n",
       "        vertical-align: top;\n",
       "    }\n",
       "\n",
       "    .dataframe thead th {\n",
       "        text-align: right;\n",
       "    }\n",
       "</style>\n",
       "<table border=\"1\" class=\"dataframe\">\n",
       "  <thead>\n",
       "    <tr style=\"text-align: right;\">\n",
       "      <th></th>\n",
       "      <th>nps</th>\n",
       "    </tr>\n",
       "    <tr>\n",
       "      <th>flag</th>\n",
       "      <th></th>\n",
       "    </tr>\n",
       "  </thead>\n",
       "  <tbody>\n",
       "    <tr>\n",
       "      <th>lsub</th>\n",
       "      <td>1.0</td>\n",
       "    </tr>\n",
       "    <tr>\n",
       "      <th>sub</th>\n",
       "      <td>0.0</td>\n",
       "    </tr>\n",
       "  </tbody>\n",
       "</table>\n",
       "</div>"
      ],
      "text/plain": [
       "      nps\n",
       "flag     \n",
       "lsub  1.0\n",
       "sub   0.0"
      ]
     },
     "execution_count": 18,
     "metadata": {},
     "output_type": "execute_result"
    }
   ],
   "source": [
    "data_ab.groupby('flag').agg({'nps': 'median'})"
   ]
  },
  {
   "cell_type": "code",
   "execution_count": 19,
   "metadata": {},
   "outputs": [
    {
     "name": "stderr",
     "output_type": "stream",
     "text": [
      "c:\\Users\\vitaly.flerin\\Miniconda3\\envs\\python3\\lib\\site-packages\\seaborn\\distributions.py:2619: FutureWarning: `distplot` is a deprecated function and will be removed in a future version. Please adapt your code to use either `displot` (a figure-level function with similar flexibility) or `histplot` (an axes-level function for histograms).\n",
      "  warnings.warn(msg, FutureWarning)\n"
     ]
    },
    {
     "data": {
      "text/plain": [
       "<AxesSubplot:xlabel='nps'>"
      ]
     },
     "execution_count": 19,
     "metadata": {},
     "output_type": "execute_result"
    },
    {
     "data": {
      "image/png": "[encoded data removed]",
      "text/plain": [
       "<Figure size 432x288 with 1 Axes>"
      ]
     },
     "metadata": {
      "needs_background": "light"
     },
     "output_type": "display_data"
    }
   ],
   "source": [
    "sns.distplot(data_ab[data_ab.flag == 'lsub'].nps, kde=False)"
   ]
  },
  {
   "cell_type": "code",
   "execution_count": 20,
   "metadata": {},
   "outputs": [
    {
     "data": {
      "text/plain": [
       "<AxesSubplot:xlabel='nps'>"
      ]
     },
     "execution_count": 20,
     "metadata": {},
     "output_type": "execute_result"
    },
    {
     "data": {
      "image/png": "[encoded data removed]",
      "text/plain": [
       "<Figure size 432x288 with 1 Axes>"
      ]
     },
     "metadata": {
      "needs_background": "light"
     },
     "output_type": "display_data"
    }
   ],
   "source": [
    "sns.distplot(data_ab[data_ab.flag == 'sub'].nps, kde=False)"
   ]
  },
  {
   "cell_type": "code",
   "execution_count": 22,
   "metadata": {},
   "outputs": [
    {
     "ename": "ValueError",
     "evalue": "`x` and `y` must be of nonzero size.",
     "output_type": "error",
     "traceback": [
      "\u001b[1;31m---------------------------------------------------------------------------\u001b[0m",
      "\u001b[1;31mValueError\u001b[0m                                Traceback (most recent call last)",
      "\u001b[1;32mc:\\Users\\vitaly.flerin\\AppData\\Local\\Microsoft\\Windows\\INetCache\\Content.Outlook\\2CE8TL5A\\май_bootstrap.ipynb Ячейка 19\u001b[0m in \u001b[0;36m<cell line: 1>\u001b[1;34m()\u001b[0m\n\u001b[1;32m----> <a href='vscode-notebook-cell:/c%3A/Users/vitaly.flerin/AppData/Local/Microsoft/Windows/INetCache/Content.Outlook/2CE8TL5A/%D0%BC%D0%B0%D0%B9_bootstrap.ipynb#X25sZmlsZQ%3D%3D?line=0'>1</a>\u001b[0m mannwhitneyu(data_ab[data_ab\u001b[39m.\u001b[39;49mflag \u001b[39m==\u001b[39;49m \u001b[39m'\u001b[39;49m\u001b[39msub\u001b[39;49m\u001b[39m'\u001b[39;49m]\u001b[39m.\u001b[39;49mnps, \n\u001b[0;32m      <a href='vscode-notebook-cell:/c%3A/Users/vitaly.flerin/AppData/Local/Microsoft/Windows/INetCache/Content.Outlook/2CE8TL5A/%D0%BC%D0%B0%D0%B9_bootstrap.ipynb#X25sZmlsZQ%3D%3D?line=1'>2</a>\u001b[0m              data_ab[data_ab\u001b[39m.\u001b[39;49mflag \u001b[39m==\u001b[39;49m \u001b[39m'\u001b[39;49m\u001b[39misub\u001b[39;49m\u001b[39m'\u001b[39;49m]\u001b[39m.\u001b[39;49mnps)\n",
      "File \u001b[1;32mc:\\Users\\vitaly.flerin\\Miniconda3\\envs\\python3\\lib\\site-packages\\scipy\\stats\\_axis_nan_policy.py:270\u001b[0m, in \u001b[0;36m_axis_nan_policy_factory.<locals>.axis_nan_policy_decorator.<locals>.axis_nan_policy_wrapper\u001b[1;34m(***failed resolving arguments***)\u001b[0m\n\u001b[0;32m    262\u001b[0m         samples \u001b[39m=\u001b[39m _remove_nans(samples, paired)\n\u001b[0;32m    264\u001b[0m     \u001b[39m# ideally, this is what the behavior would be, but some\u001b[39;00m\n\u001b[0;32m    265\u001b[0m     \u001b[39m# existing functions raise exceptions, so overriding it\u001b[39;00m\n\u001b[0;32m    266\u001b[0m     \u001b[39m# would break backward compatibility.\u001b[39;00m\n\u001b[0;32m    267\u001b[0m     \u001b[39m# if is_too_small(samples):\u001b[39;00m\n\u001b[0;32m    268\u001b[0m     \u001b[39m#     return result_object(np.nan, np.nan)\u001b[39;00m\n\u001b[1;32m--> 270\u001b[0m     \u001b[39mreturn\u001b[39;00m hypotest_fun_in(\u001b[39m*\u001b[39msamples, \u001b[39m*\u001b[39m\u001b[39m*\u001b[39mkwds)\n\u001b[0;32m    272\u001b[0m \u001b[39m# check for empty input\u001b[39;00m\n\u001b[0;32m    273\u001b[0m \u001b[39m# ideally, move this to the top, but some existing functions raise\u001b[39;00m\n\u001b[0;32m    274\u001b[0m \u001b[39m# exceptions for empty input, so overriding it would break\u001b[39;00m\n\u001b[0;32m    275\u001b[0m \u001b[39m# backward compatibility.\u001b[39;00m\n\u001b[0;32m    276\u001b[0m empty_output \u001b[39m=\u001b[39m _check_empty_inputs(samples, axis)\n",
      "File \u001b[1;32mc:\\Users\\vitaly.flerin\\Miniconda3\\envs\\python3\\lib\\site-packages\\scipy\\stats\\_mannwhitneyu.py:392\u001b[0m, in \u001b[0;36mmannwhitneyu\u001b[1;34m(x, y, use_continuity, alternative, axis, method)\u001b[0m\n\u001b[0;32m    181\u001b[0m \u001b[39m@_axis_nan_policy_factory\u001b[39m(MannwhitneyuResult, n_samples\u001b[39m=\u001b[39m\u001b[39m2\u001b[39m)\n\u001b[0;32m    182\u001b[0m \u001b[39mdef\u001b[39;00m \u001b[39mmannwhitneyu\u001b[39m(x, y, use_continuity\u001b[39m=\u001b[39m\u001b[39mTrue\u001b[39;00m, alternative\u001b[39m=\u001b[39m\u001b[39m\"\u001b[39m\u001b[39mtwo-sided\u001b[39m\u001b[39m\"\u001b[39m,\n\u001b[0;32m    183\u001b[0m                  axis\u001b[39m=\u001b[39m\u001b[39m0\u001b[39m, method\u001b[39m=\u001b[39m\u001b[39m\"\u001b[39m\u001b[39mauto\u001b[39m\u001b[39m\"\u001b[39m):\n\u001b[0;32m    184\u001b[0m     \u001b[39mr\u001b[39m\u001b[39m'''Perform the Mann-Whitney U rank test on two independent samples.\u001b[39;00m\n\u001b[0;32m    185\u001b[0m \n\u001b[0;32m    186\u001b[0m \u001b[39m    The Mann-Whitney U test is a nonparametric test of the null hypothesis\u001b[39;00m\n\u001b[1;32m   (...)\u001b[0m\n\u001b[0;32m    388\u001b[0m \n\u001b[0;32m    389\u001b[0m \u001b[39m    '''\u001b[39;00m\n\u001b[0;32m    391\u001b[0m     x, y, use_continuity, alternative, axis_int, method \u001b[39m=\u001b[39m (\n\u001b[1;32m--> 392\u001b[0m         _mwu_input_validation(x, y, use_continuity, alternative, axis, method))\n\u001b[0;32m    394\u001b[0m     x, y, xy \u001b[39m=\u001b[39m _broadcast_concatenate(x, y, axis)\n\u001b[0;32m    396\u001b[0m     n1, n2 \u001b[39m=\u001b[39m x\u001b[39m.\u001b[39mshape[\u001b[39m-\u001b[39m\u001b[39m1\u001b[39m], y\u001b[39m.\u001b[39mshape[\u001b[39m-\u001b[39m\u001b[39m1\u001b[39m]\n",
      "File \u001b[1;32mc:\\Users\\vitaly.flerin\\Miniconda3\\envs\\python3\\lib\\site-packages\\scipy\\stats\\_mannwhitneyu.py:135\u001b[0m, in \u001b[0;36m_mwu_input_validation\u001b[1;34m(x, y, use_continuity, alternative, axis, method)\u001b[0m\n\u001b[0;32m    133\u001b[0m     \u001b[39mraise\u001b[39;00m \u001b[39mValueError\u001b[39;00m(\u001b[39m'\u001b[39m\u001b[39m`x` and `y` must not contain NaNs.\u001b[39m\u001b[39m'\u001b[39m)\n\u001b[0;32m    134\u001b[0m \u001b[39mif\u001b[39;00m np\u001b[39m.\u001b[39msize(x) \u001b[39m==\u001b[39m \u001b[39m0\u001b[39m \u001b[39mor\u001b[39;00m np\u001b[39m.\u001b[39msize(y) \u001b[39m==\u001b[39m \u001b[39m0\u001b[39m:\n\u001b[1;32m--> 135\u001b[0m     \u001b[39mraise\u001b[39;00m \u001b[39mValueError\u001b[39;00m(\u001b[39m'\u001b[39m\u001b[39m`x` and `y` must be of nonzero size.\u001b[39m\u001b[39m'\u001b[39m)\n\u001b[0;32m    137\u001b[0m bools \u001b[39m=\u001b[39m {\u001b[39mTrue\u001b[39;00m, \u001b[39mFalse\u001b[39;00m}\n\u001b[0;32m    138\u001b[0m \u001b[39mif\u001b[39;00m use_continuity \u001b[39mnot\u001b[39;00m \u001b[39min\u001b[39;00m bools:\n",
      "\u001b[1;31mValueError\u001b[0m: `x` and `y` must be of nonzero size."
     ]
    }
   ],
   "source": [
    "mannwhitneyu(data_ab[data_ab.flag == 'sub'].nps, \n",
    "             data_ab[data_ab.flag == 'isub'].nps)"
   ]
  },
  {
   "cell_type": "code",
   "execution_count": 23,
   "metadata": {},
   "outputs": [
    {
     "data": {
      "text/plain": [
       "Ttest_indResult(statistic=3.1472795687546866, pvalue=0.0016610954703394135)"
      ]
     },
     "execution_count": 23,
     "metadata": {},
     "output_type": "execute_result"
    }
   ],
   "source": [
    "ttest_ind(data_ab[data_ab.flag == 'lsub'].nps, \n",
    "             data_ab[data_ab.flag == 'sub'].nps)"
   ]
  },
  {
   "cell_type": "code",
   "execution_count": 26,
   "metadata": {},
   "outputs": [
    {
     "ename": "NameError",
     "evalue": "name 'tqdm' is not defined",
     "output_type": "error",
     "traceback": [
      "\u001b[1;31m---------------------------------------------------------------------------\u001b[0m",
      "\u001b[1;31mNameError\u001b[0m                                 Traceback (most recent call last)",
      "\u001b[1;32mc:\\Users\\vitaly.flerin\\AppData\\Local\\Microsoft\\Windows\\INetCache\\Content.Outlook\\2CE8TL5A\\май_bootstrap.ipynb Ячейка 21\u001b[0m in \u001b[0;36m<cell line: 1>\u001b[1;34m()\u001b[0m\n\u001b[1;32m----> <a href='vscode-notebook-cell:/c%3A/Users/vitaly.flerin/AppData/Local/Microsoft/Windows/INetCache/Content.Outlook/2CE8TL5A/%D0%BC%D0%B0%D0%B9_bootstrap.ipynb#X30sZmlsZQ%3D%3D?line=0'>1</a>\u001b[0m get_bootstrap(\n\u001b[0;32m      <a href='vscode-notebook-cell:/c%3A/Users/vitaly.flerin/AppData/Local/Microsoft/Windows/INetCache/Content.Outlook/2CE8TL5A/%D0%BC%D0%B0%D0%B9_bootstrap.ipynb#X30sZmlsZQ%3D%3D?line=1'>2</a>\u001b[0m     data_ab[data_ab\u001b[39m.\u001b[39;49mflag \u001b[39m==\u001b[39;49m \u001b[39m'\u001b[39;49m\u001b[39mlsub\u001b[39;49m\u001b[39m'\u001b[39;49m]\u001b[39m.\u001b[39;49mnps, \u001b[39m# числовые значения первой выборки\u001b[39;49;00m\n\u001b[0;32m      <a href='vscode-notebook-cell:/c%3A/Users/vitaly.flerin/AppData/Local/Microsoft/Windows/INetCache/Content.Outlook/2CE8TL5A/%D0%BC%D0%B0%D0%B9_bootstrap.ipynb#X30sZmlsZQ%3D%3D?line=2'>3</a>\u001b[0m     data_ab[data_ab\u001b[39m.\u001b[39;49mflag \u001b[39m==\u001b[39;49m \u001b[39m'\u001b[39;49m\u001b[39msub\u001b[39;49m\u001b[39m'\u001b[39;49m]\u001b[39m.\u001b[39;49mnps, \u001b[39m# числовые значения второй выборки\u001b[39;49;00m\n\u001b[0;32m      <a href='vscode-notebook-cell:/c%3A/Users/vitaly.flerin/AppData/Local/Microsoft/Windows/INetCache/Content.Outlook/2CE8TL5A/%D0%BC%D0%B0%D0%B9_bootstrap.ipynb#X30sZmlsZQ%3D%3D?line=3'>4</a>\u001b[0m     boot_it \u001b[39m=\u001b[39;49m \u001b[39m1000\u001b[39;49m, \u001b[39m# количество бутстрэп-подвыборок\u001b[39;49;00m\n\u001b[0;32m      <a href='vscode-notebook-cell:/c%3A/Users/vitaly.flerin/AppData/Local/Microsoft/Windows/INetCache/Content.Outlook/2CE8TL5A/%D0%BC%D0%B0%D0%B9_bootstrap.ipynb#X30sZmlsZQ%3D%3D?line=4'>5</a>\u001b[0m     statistic \u001b[39m=\u001b[39;49m np\u001b[39m.\u001b[39;49mmean, \u001b[39m# интересующая нас статистика\u001b[39;49;00m\n\u001b[0;32m      <a href='vscode-notebook-cell:/c%3A/Users/vitaly.flerin/AppData/Local/Microsoft/Windows/INetCache/Content.Outlook/2CE8TL5A/%D0%BC%D0%B0%D0%B9_bootstrap.ipynb#X30sZmlsZQ%3D%3D?line=5'>6</a>\u001b[0m     bootstrap_conf_level \u001b[39m=\u001b[39;49m \u001b[39m0.95\u001b[39;49m \u001b[39m# уровень значимости\u001b[39;49;00m\n\u001b[0;32m      <a href='vscode-notebook-cell:/c%3A/Users/vitaly.flerin/AppData/Local/Microsoft/Windows/INetCache/Content.Outlook/2CE8TL5A/%D0%BC%D0%B0%D0%B9_bootstrap.ipynb#X30sZmlsZQ%3D%3D?line=6'>7</a>\u001b[0m )\n",
      "\u001b[1;32mc:\\Users\\vitaly.flerin\\AppData\\Local\\Microsoft\\Windows\\INetCache\\Content.Outlook\\2CE8TL5A\\май_bootstrap.ipynb Ячейка 21\u001b[0m in \u001b[0;36mget_bootstrap\u001b[1;34m(data_column_1, data_column_2, boot_it, statistic, bootstrap_conf_level)\u001b[0m\n\u001b[0;32m      <a href='vscode-notebook-cell:/c%3A/Users/vitaly.flerin/AppData/Local/Microsoft/Windows/INetCache/Content.Outlook/2CE8TL5A/%D0%BC%D0%B0%D0%B9_bootstrap.ipynb#X30sZmlsZQ%3D%3D?line=7'>8</a>\u001b[0m boot_len \u001b[39m=\u001b[39m \u001b[39mmax\u001b[39m([\u001b[39mlen\u001b[39m(data_column_1), \u001b[39mlen\u001b[39m(data_column_2)])\n\u001b[0;32m      <a href='vscode-notebook-cell:/c%3A/Users/vitaly.flerin/AppData/Local/Microsoft/Windows/INetCache/Content.Outlook/2CE8TL5A/%D0%BC%D0%B0%D0%B9_bootstrap.ipynb#X30sZmlsZQ%3D%3D?line=8'>9</a>\u001b[0m boot_data \u001b[39m=\u001b[39m []\n\u001b[1;32m---> <a href='vscode-notebook-cell:/c%3A/Users/vitaly.flerin/AppData/Local/Microsoft/Windows/INetCache/Content.Outlook/2CE8TL5A/%D0%BC%D0%B0%D0%B9_bootstrap.ipynb#X30sZmlsZQ%3D%3D?line=9'>10</a>\u001b[0m \u001b[39mfor\u001b[39;00m i \u001b[39min\u001b[39;00m tqdm(\u001b[39mrange\u001b[39m(boot_it)): \u001b[39m# извлекаем подвыборки\u001b[39;00m\n\u001b[0;32m     <a href='vscode-notebook-cell:/c%3A/Users/vitaly.flerin/AppData/Local/Microsoft/Windows/INetCache/Content.Outlook/2CE8TL5A/%D0%BC%D0%B0%D0%B9_bootstrap.ipynb#X30sZmlsZQ%3D%3D?line=10'>11</a>\u001b[0m     samples_1 \u001b[39m=\u001b[39m data_column_1\u001b[39m.\u001b[39msample(\n\u001b[0;32m     <a href='vscode-notebook-cell:/c%3A/Users/vitaly.flerin/AppData/Local/Microsoft/Windows/INetCache/Content.Outlook/2CE8TL5A/%D0%BC%D0%B0%D0%B9_bootstrap.ipynb#X30sZmlsZQ%3D%3D?line=11'>12</a>\u001b[0m         boot_len, \n\u001b[0;32m     <a href='vscode-notebook-cell:/c%3A/Users/vitaly.flerin/AppData/Local/Microsoft/Windows/INetCache/Content.Outlook/2CE8TL5A/%D0%BC%D0%B0%D0%B9_bootstrap.ipynb#X30sZmlsZQ%3D%3D?line=12'>13</a>\u001b[0m         replace \u001b[39m=\u001b[39m \u001b[39mTrue\u001b[39;00m \u001b[39m# параметр возвращения\u001b[39;00m\n\u001b[0;32m     <a href='vscode-notebook-cell:/c%3A/Users/vitaly.flerin/AppData/Local/Microsoft/Windows/INetCache/Content.Outlook/2CE8TL5A/%D0%BC%D0%B0%D0%B9_bootstrap.ipynb#X30sZmlsZQ%3D%3D?line=13'>14</a>\u001b[0m     )\u001b[39m.\u001b[39mvalues\n\u001b[0;32m     <a href='vscode-notebook-cell:/c%3A/Users/vitaly.flerin/AppData/Local/Microsoft/Windows/INetCache/Content.Outlook/2CE8TL5A/%D0%BC%D0%B0%D0%B9_bootstrap.ipynb#X30sZmlsZQ%3D%3D?line=15'>16</a>\u001b[0m     samples_2 \u001b[39m=\u001b[39m data_column_2\u001b[39m.\u001b[39msample(\n\u001b[0;32m     <a href='vscode-notebook-cell:/c%3A/Users/vitaly.flerin/AppData/Local/Microsoft/Windows/INetCache/Content.Outlook/2CE8TL5A/%D0%BC%D0%B0%D0%B9_bootstrap.ipynb#X30sZmlsZQ%3D%3D?line=16'>17</a>\u001b[0m         boot_len, \u001b[39m# чтобы сохранить дисперсию, берем такой же размер выборки\u001b[39;00m\n\u001b[0;32m     <a href='vscode-notebook-cell:/c%3A/Users/vitaly.flerin/AppData/Local/Microsoft/Windows/INetCache/Content.Outlook/2CE8TL5A/%D0%BC%D0%B0%D0%B9_bootstrap.ipynb#X30sZmlsZQ%3D%3D?line=17'>18</a>\u001b[0m         replace \u001b[39m=\u001b[39m \u001b[39mTrue\u001b[39;00m\n\u001b[0;32m     <a href='vscode-notebook-cell:/c%3A/Users/vitaly.flerin/AppData/Local/Microsoft/Windows/INetCache/Content.Outlook/2CE8TL5A/%D0%BC%D0%B0%D0%B9_bootstrap.ipynb#X30sZmlsZQ%3D%3D?line=18'>19</a>\u001b[0m     )\u001b[39m.\u001b[39mvalues\n",
      "\u001b[1;31mNameError\u001b[0m: name 'tqdm' is not defined"
     ]
    }
   ],
   "source": [
    "get_bootstrap(\n",
    "    data_ab[data_ab.flag == 'lsub'].nps, # числовые значения первой выборки\n",
    "    data_ab[data_ab.flag == 'sub'].nps, # числовые значения второй выборки\n",
    "    boot_it = 1000, # количество бутстрэп-подвыборок\n",
    "    statistic = np.mean, # интересующая нас статистика\n",
    "    bootstrap_conf_level = 0.95 # уровень значимости\n",
    ")"
   ]
  },
  {
   "cell_type": "code",
   "execution_count": 25,
   "metadata": {},
   "outputs": [
    {
     "ename": "AttributeError",
     "evalue": "'DataFrame' object has no attribute 'experimentVariant'",
     "output_type": "error",
     "traceback": [
      "\u001b[1;31m---------------------------------------------------------------------------\u001b[0m",
      "\u001b[1;31mAttributeError\u001b[0m                            Traceback (most recent call last)",
      "\u001b[1;32mc:\\Users\\vitaly.flerin\\AppData\\Local\\Microsoft\\Windows\\INetCache\\Content.Outlook\\2CE8TL5A\\май_bootstrap.ipynb Ячейка 22\u001b[0m in \u001b[0;36m<cell line: 1>\u001b[1;34m()\u001b[0m\n\u001b[0;32m      <a href='vscode-notebook-cell:/c%3A/Users/vitaly.flerin/AppData/Local/Microsoft/Windows/INetCache/Content.Outlook/2CE8TL5A/%D0%BC%D0%B0%D0%B9_bootstrap.ipynb#X31sZmlsZQ%3D%3D?line=0'>1</a>\u001b[0m get_bootstrap(\n\u001b[1;32m----> <a href='vscode-notebook-cell:/c%3A/Users/vitaly.flerin/AppData/Local/Microsoft/Windows/INetCache/Content.Outlook/2CE8TL5A/%D0%BC%D0%B0%D0%B9_bootstrap.ipynb#X31sZmlsZQ%3D%3D?line=1'>2</a>\u001b[0m     data_ab[data_ab\u001b[39m.\u001b[39;49mexperimentVariant \u001b[39m==\u001b[39m \u001b[39m'\u001b[39m\u001b[39mTreatment\u001b[39m\u001b[39m'\u001b[39m]\u001b[39m.\u001b[39mvalue, \u001b[39m# числовые значения первой выборки\u001b[39;00m\n\u001b[0;32m      <a href='vscode-notebook-cell:/c%3A/Users/vitaly.flerin/AppData/Local/Microsoft/Windows/INetCache/Content.Outlook/2CE8TL5A/%D0%BC%D0%B0%D0%B9_bootstrap.ipynb#X31sZmlsZQ%3D%3D?line=2'>3</a>\u001b[0m     data_ab[data_ab\u001b[39m.\u001b[39mexperimentVariant \u001b[39m==\u001b[39m \u001b[39m'\u001b[39m\u001b[39mControl\u001b[39m\u001b[39m'\u001b[39m]\u001b[39m.\u001b[39mvalue, \u001b[39m# числовые значения второй выборки\u001b[39;00m\n\u001b[0;32m      <a href='vscode-notebook-cell:/c%3A/Users/vitaly.flerin/AppData/Local/Microsoft/Windows/INetCache/Content.Outlook/2CE8TL5A/%D0%BC%D0%B0%D0%B9_bootstrap.ipynb#X31sZmlsZQ%3D%3D?line=3'>4</a>\u001b[0m     boot_it \u001b[39m=\u001b[39m \u001b[39m1000\u001b[39m, \u001b[39m# количество бутстрэп-подвыборок\u001b[39;00m\n\u001b[0;32m      <a href='vscode-notebook-cell:/c%3A/Users/vitaly.flerin/AppData/Local/Microsoft/Windows/INetCache/Content.Outlook/2CE8TL5A/%D0%BC%D0%B0%D0%B9_bootstrap.ipynb#X31sZmlsZQ%3D%3D?line=4'>5</a>\u001b[0m     statistic \u001b[39m=\u001b[39m np\u001b[39m.\u001b[39mmedian, \u001b[39m# интересующая нас статистика\u001b[39;00m\n\u001b[0;32m      <a href='vscode-notebook-cell:/c%3A/Users/vitaly.flerin/AppData/Local/Microsoft/Windows/INetCache/Content.Outlook/2CE8TL5A/%D0%BC%D0%B0%D0%B9_bootstrap.ipynb#X31sZmlsZQ%3D%3D?line=5'>6</a>\u001b[0m     bootstrap_conf_level \u001b[39m=\u001b[39m \u001b[39m0.95\u001b[39m \u001b[39m# уровень значимости\u001b[39;00m\n\u001b[0;32m      <a href='vscode-notebook-cell:/c%3A/Users/vitaly.flerin/AppData/Local/Microsoft/Windows/INetCache/Content.Outlook/2CE8TL5A/%D0%BC%D0%B0%D0%B9_bootstrap.ipynb#X31sZmlsZQ%3D%3D?line=6'>7</a>\u001b[0m )\n",
      "File \u001b[1;32mc:\\Users\\vitaly.flerin\\Miniconda3\\envs\\python3\\lib\\site-packages\\pandas\\core\\generic.py:5575\u001b[0m, in \u001b[0;36mNDFrame.__getattr__\u001b[1;34m(self, name)\u001b[0m\n\u001b[0;32m   5568\u001b[0m \u001b[39mif\u001b[39;00m (\n\u001b[0;32m   5569\u001b[0m     name \u001b[39mnot\u001b[39;00m \u001b[39min\u001b[39;00m \u001b[39mself\u001b[39m\u001b[39m.\u001b[39m_internal_names_set\n\u001b[0;32m   5570\u001b[0m     \u001b[39mand\u001b[39;00m name \u001b[39mnot\u001b[39;00m \u001b[39min\u001b[39;00m \u001b[39mself\u001b[39m\u001b[39m.\u001b[39m_metadata\n\u001b[0;32m   5571\u001b[0m     \u001b[39mand\u001b[39;00m name \u001b[39mnot\u001b[39;00m \u001b[39min\u001b[39;00m \u001b[39mself\u001b[39m\u001b[39m.\u001b[39m_accessors\n\u001b[0;32m   5572\u001b[0m     \u001b[39mand\u001b[39;00m \u001b[39mself\u001b[39m\u001b[39m.\u001b[39m_info_axis\u001b[39m.\u001b[39m_can_hold_identifiers_and_holds_name(name)\n\u001b[0;32m   5573\u001b[0m ):\n\u001b[0;32m   5574\u001b[0m     \u001b[39mreturn\u001b[39;00m \u001b[39mself\u001b[39m[name]\n\u001b[1;32m-> 5575\u001b[0m \u001b[39mreturn\u001b[39;00m \u001b[39mobject\u001b[39;49m\u001b[39m.\u001b[39;49m\u001b[39m__getattribute__\u001b[39;49m(\u001b[39mself\u001b[39;49m, name)\n",
      "\u001b[1;31mAttributeError\u001b[0m: 'DataFrame' object has no attribute 'experimentVariant'"
     ]
    }
   ],
   "source": [
    "get_bootstrap(\n",
    "    data_ab[data_ab.experimentVariant == 'Treatment'].value, # числовые значения первой выборки\n",
    "    data_ab[data_ab.experimentVariant == 'Control'].value, # числовые значения второй выборки\n",
    "    boot_it = 1000, # количество бутстрэп-подвыборок\n",
    "    statistic = np.median, # интересующая нас статистика\n",
    "    bootstrap_conf_level = 0.95 # уровень значимости\n",
    ")"
   ]
  },
  {
   "cell_type": "code",
   "execution_count": null,
   "metadata": {},
   "outputs": [
    {
     "data": {
      "text/plain": [
       "True"
      ]
     },
     "execution_count": 49,
     "metadata": {},
     "output_type": "execute_result"
    }
   ],
   "source": [
    "5.4687657931866705e-08 < 0.0000002"
   ]
  },
  {
   "cell_type": "code",
   "execution_count": null,
   "metadata": {},
   "outputs": [],
   "source": [
    "ads_data = pd.read_csv('ads_data.csv.zip')"
   ]
  },
  {
   "cell_type": "code",
   "execution_count": null,
   "metadata": {},
   "outputs": [
    {
     "data": {
      "text/html": [
       "<div>\n",
       "<style scoped>\n",
       "    .dataframe tbody tr th:only-of-type {\n",
       "        vertical-align: middle;\n",
       "    }\n",
       "\n",
       "    .dataframe tbody tr th {\n",
       "        vertical-align: top;\n",
       "    }\n",
       "\n",
       "    .dataframe thead th {\n",
       "        text-align: right;\n",
       "    }\n",
       "</style>\n",
       "<table border=\"1\" class=\"dataframe\">\n",
       "  <thead>\n",
       "    <tr style=\"text-align: right;\">\n",
       "      <th>event</th>\n",
       "      <th>ad_id</th>\n",
       "      <th>click</th>\n",
       "      <th>view</th>\n",
       "    </tr>\n",
       "  </thead>\n",
       "  <tbody>\n",
       "    <tr>\n",
       "      <td>0</td>\n",
       "      <td>3</td>\n",
       "      <td>9.0</td>\n",
       "      <td>490.0</td>\n",
       "    </tr>\n",
       "    <tr>\n",
       "      <td>1</td>\n",
       "      <td>2132</td>\n",
       "      <td>1.0</td>\n",
       "      <td>95.0</td>\n",
       "    </tr>\n",
       "    <tr>\n",
       "      <td>2</td>\n",
       "      <td>2276</td>\n",
       "      <td>2.0</td>\n",
       "      <td>1454.0</td>\n",
       "    </tr>\n",
       "    <tr>\n",
       "      <td>3</td>\n",
       "      <td>2475</td>\n",
       "      <td>NaN</td>\n",
       "      <td>132.0</td>\n",
       "    </tr>\n",
       "    <tr>\n",
       "      <td>4</td>\n",
       "      <td>2643</td>\n",
       "      <td>3.0</td>\n",
       "      <td>286.0</td>\n",
       "    </tr>\n",
       "    <tr>\n",
       "      <td>...</td>\n",
       "      <td>...</td>\n",
       "      <td>...</td>\n",
       "      <td>...</td>\n",
       "    </tr>\n",
       "    <tr>\n",
       "      <td>350</td>\n",
       "      <td>121941</td>\n",
       "      <td>1.0</td>\n",
       "      <td>640.0</td>\n",
       "    </tr>\n",
       "    <tr>\n",
       "      <td>351</td>\n",
       "      <td>121943</td>\n",
       "      <td>15.0</td>\n",
       "      <td>1722.0</td>\n",
       "    </tr>\n",
       "    <tr>\n",
       "      <td>352</td>\n",
       "      <td>122042</td>\n",
       "      <td>1.0</td>\n",
       "      <td>155.0</td>\n",
       "    </tr>\n",
       "    <tr>\n",
       "      <td>353</td>\n",
       "      <td>122063</td>\n",
       "      <td>1.0</td>\n",
       "      <td>260.0</td>\n",
       "    </tr>\n",
       "    <tr>\n",
       "      <td>354</td>\n",
       "      <td>122086</td>\n",
       "      <td>50.0</td>\n",
       "      <td>1999.0</td>\n",
       "    </tr>\n",
       "  </tbody>\n",
       "</table>\n",
       "<p>355 rows × 3 columns</p>\n",
       "</div>"
      ],
      "text/plain": [
       "event   ad_id  click    view\n",
       "0           3    9.0   490.0\n",
       "1        2132    1.0    95.0\n",
       "2        2276    2.0  1454.0\n",
       "3        2475    NaN   132.0\n",
       "4        2643    3.0   286.0\n",
       "..        ...    ...     ...\n",
       "350    121941    1.0   640.0\n",
       "351    121943   15.0  1722.0\n",
       "352    122042    1.0   155.0\n",
       "353    122063    1.0   260.0\n",
       "354    122086   50.0  1999.0\n",
       "\n",
       "[355 rows x 3 columns]"
      ]
     },
     "execution_count": 34,
     "metadata": {},
     "output_type": "execute_result"
    }
   ],
   "source": [
    "ads_data.groupby(['ad_id', 'event'], as_index=False) \\\n",
    "    .agg({'time': 'count'}) \\\n",
    "    .pivot(index='ad_id', columns='event', values='time') \\\n",
    "    .reset_index()"
   ]
  }
 ],
 "metadata": {
  "kernelspec": {
   "display_name": "Python 3.9.13 64-bit",
   "language": "python",
   "name": "python3"
  },
  "language_info": {
   "codemirror_mode": {
    "name": "ipython",
    "version": 3
   },
   "file_extension": ".py",
   "mimetype": "text/x-python",
   "name": "python",
   "nbconvert_exporter": "python",
   "pygments_lexer": "ipython3",
   "version": "3.9.13"
  },
  "vscode": {
   "interpreter": {
    "hash": "25a19fbe0a9132dfb9279d48d161753c6352f8f9478c2e74383d340069b907c3"
   }
  }
 },
 "nbformat": 4,
 "nbformat_minor": 4
}
