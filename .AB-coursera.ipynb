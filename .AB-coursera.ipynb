{
  "nbformat": 4,
  "nbformat_minor": 0,
  "metadata": {
    "colab": {
      "provenance": [],
      "authorship_tag": "ABX9TyPJ/e9VvnCeLJD/EUVaLhR1",
      "include_colab_link": true
    },
    "kernelspec": {
      "name": "python3",
      "display_name": "Python 3"
    },
    "language_info": {
      "name": "python"
    }
  },
  "cells": [
    {
      "cell_type": "markdown",
      "metadata": {
        "id": "view-in-github",
        "colab_type": "text"
      },
      "source": [
        "<a href=\"https://colab.research.google.com/github/Vitalyastiy/statistics/blob/main/.AB-coursera.ipynb\" target=\"_parent\"><img src=\"https://colab.research.google.com/assets/colab-badge.svg\" alt=\"Open In Colab\"/></a>"
      ]
    },
    {
      "cell_type": "markdown",
      "source": [],
      "metadata": {
        "id": "5exGp0cjb7n7"
      }
    },
    {
      "cell_type": "markdown",
      "source": [
        "Пример а/б - теста. Курсера"
      ],
      "metadata": {
        "id": "PL47cw2Tb22d"
      }
    },
    {
      "cell_type": "code",
      "execution_count": 2,
      "metadata": {
        "colab": {
          "base_uri": "https://localhost:8080/"
        },
        "id": "6qjy7_mEbZQ3",
        "outputId": "94d74e81-b62a-4888-d1a3-2c1e57cf8005"
      },
      "outputs": [
        {
          "output_type": "execute_result",
          "data": {
            "text/plain": [
              "(0.35714285714285715,\n",
              " 0.18421052631578946,\n",
              " 0.2926829268292683,\n",
              " 0.3904761904761905)"
            ]
          },
          "metadata": {},
          "execution_count": 2
        }
      ],
      "source": [
        "# %%\n",
        "# держатъ под контролем значимостъ и корректироватъ одним из методов\n",
        "'''Процедура множественного тестирования'''\n",
        "import numpy  as np\n",
        "import pandas as pd\n",
        "from scipy  import stats\n",
        "import seaborn  as sns\n",
        "import matplotlib.pyplot  as plt \n",
        "plt.style.use('ggplot')\n",
        "%matplotlib inline\n",
        "'''n-упоминания, m-смерти'''\n",
        "n_st = 70\n",
        "m_st = 25\n",
        "n_lan = 38\n",
        "m_lan = 7 \n",
        "n_gr = 41 \n",
        "m_gr = 12\n",
        "n_nw = 105\n",
        "m_nw = 41\n",
        "alpha = 0.05\n",
        "# %%\n",
        "m_st/n_st, m_lan/n_lan, m_gr/n_gr, m_nw/n_nw \n"
      ]
    },
    {
      "cell_type": "code",
      "source": [
        "# %%\n",
        "from statsmodels.stats.proportion import proportions_ztest\n",
        "_, p1 = proportions_ztest((m_st, m_lan), (n_st, n_lan), \\\n",
        "value=0, alternative='larger')\n",
        "\n",
        "_, p2 = proportions_ztest((m_st, m_gr), (n_st, n_gr), \\\n",
        "value=0, alternative='larger')\n",
        "\n",
        "_, p3 = proportions_ztest((m_st, m_nw), (n_st, n_nw), \\\n",
        "value=0, alternative='larger')\n",
        "\n",
        "pval = np.array([p1, p2, p3])\n",
        "pval # pval = 0.05"
      ],
      "metadata": {
        "colab": {
          "base_uri": "https://localhost:8080/"
        },
        "id": "NJXXOAMabhEG",
        "outputId": "18fe176a-bfe1-4f48-db74-06c76eaa073c"
      },
      "execution_count": 3,
      "outputs": [
        {
          "output_type": "execute_result",
          "data": {
            "text/plain": [
              "array([0.03008672, 0.24343199, 0.67209806])"
            ]
          },
          "metadata": {},
          "execution_count": 3
        }
      ]
    },
    {
      "cell_type": "code",
      "source": [
        "pval >0.05/3 # корректировка Бенфирони, делим на количество тестов "
      ],
      "metadata": {
        "colab": {
          "base_uri": "https://localhost:8080/"
        },
        "id": "F9hRyqt4bn4s",
        "outputId": "8e83445e-e1ce-48e4-c88b-736a058fb786"
      },
      "execution_count": 4,
      "outputs": [
        {
          "output_type": "execute_result",
          "data": {
            "text/plain": [
              "array([ True,  True,  True])"
            ]
          },
          "metadata": {},
          "execution_count": 4
        }
      ]
    },
    {
      "cell_type": "code",
      "source": [
        "# Поправка на value  Бенферони\n",
        "from statsmodels.sandbox.stats.multicomp import multipletests\n",
        "rejected, p_corrected, _, _ = multipletests(pval, alpha = 0.05, method = 'bonferroni')\n",
        "p_corrected"
      ],
      "metadata": {
        "colab": {
          "base_uri": "https://localhost:8080/"
        },
        "id": "Zs7g_4JbbrG0",
        "outputId": "d8300a6e-5ea9-48e6-c321-070a823f09cc"
      },
      "execution_count": 5,
      "outputs": [
        {
          "output_type": "execute_result",
          "data": {
            "text/plain": [
              "array([0.09026015, 0.73029598, 1.        ])"
            ]
          },
          "metadata": {},
          "execution_count": 5
        }
      ]
    },
    {
      "cell_type": "code",
      "source": [
        "# Поправка на value  Холма, повышаем мощностъ теста\n",
        "from statsmodels.sandbox.stats.multicomp import multipletests\n",
        "rejected, p_corrected, _, _ = multipletests(pval, alpha = 0.05, method = 'holm')\n",
        "p_corrected"
      ],
      "metadata": {
        "colab": {
          "base_uri": "https://localhost:8080/"
        },
        "id": "1R_72RE_bs_8",
        "outputId": "28ba5113-0899-4e5e-e909-388fd1ba5778"
      },
      "execution_count": 6,
      "outputs": [
        {
          "output_type": "execute_result",
          "data": {
            "text/plain": [
              "array([0.09026015, 0.48686399, 0.67209806])"
            ]
          },
          "metadata": {},
          "execution_count": 6
        }
      ]
    },
    {
      "cell_type": "code",
      "source": [
        "# Поправка на value  Хохберга\n",
        "from statsmodels.sandbox.stats.multicomp import multipletests\n",
        "rejected, p_corrected, _, _ = multipletests(pval, alpha = 0.05, method = 'fdr_bh')\n",
        "p_corrected"
      ],
      "metadata": {
        "colab": {
          "base_uri": "https://localhost:8080/"
        },
        "id": "WY-v5j8ZbuXM",
        "outputId": "329c21d1-a0f6-488f-bbdc-7c9375860243"
      },
      "execution_count": 7,
      "outputs": [
        {
          "output_type": "execute_result",
          "data": {
            "text/plain": [
              "array([0.09026015, 0.36514799, 0.67209806])"
            ]
          },
          "metadata": {},
          "execution_count": 7
        }
      ]
    }
  ]
}